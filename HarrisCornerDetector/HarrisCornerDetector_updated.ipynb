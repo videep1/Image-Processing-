{
 "cells": [
  {
   "cell_type": "markdown",
   "metadata": {},
   "source": [
    "# Quiz- Implementing Harris Corner Detector"
   ]
  },
  {
   "cell_type": "markdown",
   "metadata": {},
   "source": [
    "The Harris corner detection algorithm also called the Harris & Stephens corner detector is one of the simplest corner detectors available. The idea is to locate interest points where the surrounding neighbourhood shows edges in more than one direction.The algorithm is to find the difference in intensity for a displacement of (u,v) in all directions.\n",
    "Follow the steps in the given in this notebook to implement Harris corner detector using numpy\n"
   ]
  },
  {
   "cell_type": "markdown",
   "metadata": {},
   "source": [
    "The first step is to calculte image gadients in both horizontal and Vertical direction. We are going to use convolution operation that you learnt in second week to find gradients of the image. In case you are not familiar with convolution operation much, Watch this playlist: https://www.youtube.com/playlist?list=PLskqk7JOmYpxwGkgbuhgIS9Hqg0FjQkD1. It will be very usefull."
   ]
  },
  {
   "cell_type": "code",
   "execution_count": 1,
   "metadata": {
    "collapsed": true
   },
   "outputs": [],
   "source": [
    "#importing packages\n",
    "import cv2\n",
    "import numpy as np"
   ]
  },
  {
   "cell_type": "markdown",
   "metadata": {},
   "source": [
    "### 3.1 - Zero-Padding\n",
    "\n",
    "Zero-padding adds zeros around the border of an image:\n",
    "\n",
    "<img src=\"images/PAD.png\" style=\"width:600px;height:400px;\">\n",
    "<caption><center> <u> <font color='purple'> **Figure 1** </u><font color='purple'>  : **Zero-Padding**<br> Image (3 channels, RGB) with a padding of 2. </center></caption>\n",
    "\n",
    "The main benefits of padding are the following:\n",
    "\n",
    "- It helps us keep more of the information at the border of an image. Without padding, very few values at the next layer would be affected by pixels as the edges of an image.\n",
    "\n",
    "**Exercise**: Implement the following function, which pads image with zeros. [Use np.pad](https://docs.scipy.org/doc/numpy/reference/generated/numpy.pad.html). Note if you want to pad the array \"a\" of shape $(5,5,5,5,5)$ with `pad = 1` for the 2nd dimension, `pad = 3` for the 4th dimension and `pad = 0` for the rest, you would do:\n",
    "```python\n",
    "a = np.pad(a, ((0,0), (1,1), (0,0), (3,3), (0,0)), mode='constant', constant_values = (0,0))\n",
    "```"
   ]
  },
  {
   "cell_type": "code",
   "execution_count": 1,
   "metadata": {
    "collapsed": false
   },
   "outputs": [],
   "source": [
    "def zero_pad(img, pad):\n",
    "    '''\n",
    "    Argument:\n",
    "    img -- input image\n",
    "    pad -- integer, amount of padding around each image on vertical and horizontal dimensions\n",
    "    Returns:\n",
    "    img_pad -- padded image of shape ( n_H + 2*pad, n_W + 2*pad)\n",
    "    '''\n",
    "    ### START CODE HERE ### (≈ 1 line)\n",
    "    img_pad = None\n",
    "    ### END CODE HERE ###\n",
    "    return img_pad"
   ]
  },
  {
   "cell_type": "markdown",
   "metadata": {
    "collapsed": true
   },
   "source": [
    "### 3.2 - Single step of convolution \n",
    "\n",
    "In this part, implement a single step of convolution, in which you apply the filter to a single position of the input. This will be used to build a convolutional unit, which: \n",
    "\n",
    "- Takes an input image \n",
    "- Applies a filter at every position of the input\n",
    "- Outputs convolved image (usually of different size)\n",
    "\n",
    "<img src=\"images/Convolution_schematic.gif\" style=\"width:500px;height:300px;\">\n",
    "<caption><center> <u> <font color='purple'> **Figure 2** </u><font color='purple'>  : **Convolution operation**<br> with a filter of 3x3 and a stride of 1 (stride = amount you move the window each time you slide) </center></caption>\n",
    "\n",
    "In a computer vision application, each value in the matrix on the left corresponds to a single pixel value, and we convolve a 3x3 filter with the image by multiplying its values element-wise with the original matrix, then summing them up. In this first step of the exercise, you will implement a single step of convolution, corresponding to applying a filter to just one of the positions to get a single real-valued output. \n",
    "\n",
    "Later in this notebook, you'll apply this function to multiple positions of the input to implement the full convolutional operation. \n",
    "\n",
    "**Exercise**: Implement conv_single_step(). [Hint](https://docs.scipy.org/doc/numpy-1.13.0/reference/generated/numpy.sum.html)."
   ]
  },
  {
   "cell_type": "code",
   "execution_count": 2,
   "metadata": {
    "collapsed": true
   },
   "outputs": [],
   "source": [
    "def conv_single_step(img,kernel):\n",
    "    \n",
    "    ### START CODE HERE ### (≈ 2 lines of code)\n",
    "    # Element-wise product between img and kernel\n",
    "    s = None\n",
    "    # Sum over all entries of the s.\n",
    "    Z = None\n",
    "    ### END CODE HERE ###\n",
    "    return Z\n",
    "    "
   ]
  },
  {
   "cell_type": "markdown",
   "metadata": {},
   "source": [
    "\n",
    "**Reminder**:\n",
    "The formulas relating the output shape of the convolution to the input shape is:\n",
    "$$ n_H = \\lfloor \\frac{n_{H_{prev}} - f + 2 \\times pad}{stride} \\rfloor +1 $$\n",
    "$$ n_W = \\lfloor \\frac{n_{W_{prev}} - f + 2 \\times pad}{stride} \\rfloor +1 $$\n"
   ]
  },
  {
   "cell_type": "markdown",
   "metadata": {},
   "source": [
    "#### Additional Hints if you're stuck\n",
    "\n",
    "\n",
    "* You will want to use array slicing (e.g.`varname[0:1,:,3:5]`) for the following variables:  \n",
    "  `img_pad` ,`kernel`.  \n",
    "  Copy the starter code of the function and run it outside of the defined function, in separate cells.  \n",
    "  Check that the subset of each array is the size and dimension that you're expecting.  \n",
    "* To decide how to get the vert_start, vert_end; horiz_start, horiz_end, remember that these are indices of the previous layer.  \n",
    "  Draw an example of a previous padded layer (8 x 8, for instance), and the current (output layer) (2 x 2, for instance).  \n",
    "  The output layer's indices are denoted by `h` and `w`.  "
   ]
  },
  {
   "cell_type": "code",
   "execution_count": 3,
   "metadata": {
    "collapsed": false
   },
   "outputs": [],
   "source": [
    "def conv_forward(img, Kernel,pad):\n",
    "    ### START CODE HERE ###\n",
    "    # Retrieve dimensions from img's shape (≈1 line)  \n",
    "    (n_H_prev, n_W_prev) = None\n",
    "    \n",
    "    # Retrieve dimensions from kernel's shape (≈1 line)\n",
    "    (f, f) = None\n",
    "    \n",
    "    # Compute the dimensions of the CONV output using the formula given above. \n",
    "    # Hint: use int() to apply the 'floor' operation. (≈2 lines)\n",
    "    n_H = None\n",
    "    n_W = None\n",
    "    \n",
    "    # Initialize the output volume Z with zeros. (≈1 line)\n",
    "    Z = np.zeros((n_H,n_W))\n",
    "    \n",
    "    # Create a padded image using function you wrote above. choose pad such that i/p image dimention is equal to the output.\n",
    "    img_pad = zero_pad(img,pad)\n",
    "    \n",
    "\n",
    "    for h in range(n_H_prev):           # loop over vertical axis of the output volume\n",
    "        # Find the vertical start and end of the current \"slice\"(≈2 lines)\n",
    "        vert_start = None\n",
    "        vert_end = None\n",
    "\n",
    "        for w in range(n_W_prev):       # loop over horizontal axis of the output volume\n",
    "            # Find the horizontal start and end of the current \"slice\" (≈2 lines)\n",
    "            horiz_start = None\n",
    "            horiz_end = None\n",
    "\n",
    "            # Use the corners to define the slice of image (See Hint above the cell). \n",
    "            img_slice= None\n",
    "            Z[ h, w] = None\n",
    "    ### END CODE HERE ###\n",
    "\n",
    "    # Making sure your output shape is correct\n",
    "    assert(Z.shape == (n_H, n_W))\n",
    "\n",
    "    return Z\n"
   ]
  },
  {
   "cell_type": "markdown",
   "metadata": {},
   "source": [
    "As mentioned in the note book compute the structre tensor by the following equation:\n",
    "        $A=\\sum_{u} \\sum_{v} w(u, v)\\left[\\begin{array}{cc}I_{x}^{2} & I_{x} I_{y} \\\\ I_{x} I_{y} & I_{y}^{2}\\end{array}\\right]=\\left[\\begin{array}{cc}\\left\\langle I_{x}^{2}\\right\\rangle & \\left\\langle I_{x} I_{y}\\right\\rangle \\\\ \\left\\langle I_{x} I_{y}\\right\\rangle & \\left\\langle I_{y}^{2}\\right\\rangle\\end{array}\\right]$\n",
    "        \n"
   ]
  },
  {
   "cell_type": "code",
   "execution_count": 4,
   "metadata": {
    "collapsed": false
   },
   "outputs": [],
   "source": [
    "def A(Ix,Iy,win_size,height,width):\n",
    "    #Ix and Iy are partial derivates ofd the funtion in x and y diectyon respectively\n",
    "    Ixx= None\n",
    "    #take element wise product Ix*Ix\n",
    "    Iyy= None  \n",
    "    #take element wise product Iy*Iy\n",
    "    Ixy= None  \n",
    "    #take element wise product Ix*Iy\n",
    "    i=int(win_size/2)\n",
    "    #Calculate A by windowing the above matrices and summing\n",
    "    #Take a look at this. This has been implemented for you :)\n",
    "    S=np.zeros((height-i,width-i,2,2))\n",
    "    for y in range(i,height-i):\n",
    "        for x in range(i,width-i):\n",
    "            windowxx=Ixx[y-i:y+i+1,x-i:x+i+1]\n",
    "            windowyy=Iyy[y-i:y+i+1,x-i:x+i+1]\n",
    "            windowxy=Ixy[y-i:y+i+1,x-i:x+i+1]\n",
    "            Sxx=windowxx.sum()\n",
    "            Syy=windowyy.sum()\n",
    "            Sxy=windowxy.sum()\n",
    "            S[y,x]=[[Sxx,Sxy],[Sxy,Syy]]\n",
    "    # So the matrix A is [[Sxx,Sxy],[Sxy,Syy]]\n",
    "    return S"
   ]
  },
  {
   "cell_type": "markdown",
   "metadata": {},
   "source": [
    "compute the determinat:\n",
    "$M_{c}=\\lambda_{1} \\lambda_{2}-\\kappa\\left(\\lambda_{1}+\\lambda_{2}\\right)^{2}=\\operatorname{det}(A)-\\kappa \\operatorname{trace}^{2}(A)$\n"
   ]
  },
  {
   "cell_type": "code",
   "execution_count": 5,
   "metadata": {
    "collapsed": false
   },
   "outputs": [],
   "source": [
    "def resultant(S,k):\n",
    "    #create an array of zeros with dimention of(S.shape[0],S.shape[1])\n",
    "    res=None\n",
    "    for y in range(S.shape[0]):\n",
    "        for x in range(S.shape[1]):\n",
    "            #compute determinat\n",
    "            det=None\n",
    "            trace=None\n",
    "            \n",
    "            #compute function\n",
    "            function=None\n",
    "            res[y,x]=None\n",
    "            \n",
    "    return res\n",
    "            \n",
    "    "
   ]
  },
  {
   "cell_type": "markdown",
   "metadata": {},
   "source": [
    "Integrate all the above functions we discussed and implement harris corner detector.use kernels [[1,2,1],[0,0,0],[-1,-2,-1]] and [[1,0,-1],[2,0,-2],[1,0,-1]]"
   ]
  },
  {
   "cell_type": "code",
   "execution_count": 6,
   "metadata": {
    "collapsed": false
   },
   "outputs": [
    {
     "ename": "NameError",
     "evalue": "name 'cv2' is not defined",
     "output_type": "error",
     "traceback": [
      "\u001b[0;31m---------------------------------------------------------------------------\u001b[0m",
      "\u001b[0;31mNameError\u001b[0m                                 Traceback (most recent call last)",
      "\u001b[0;32m<ipython-input-6-03fac4ed78de>\u001b[0m in \u001b[0;36m<module>\u001b[0;34m()\u001b[0m\n\u001b[0;32m----> 1\u001b[0;31m \u001b[0mimg1\u001b[0m\u001b[1;33m=\u001b[0m\u001b[0mcv2\u001b[0m\u001b[1;33m.\u001b[0m\u001b[0mimread\u001b[0m\u001b[1;33m(\u001b[0m\u001b[1;34m'..\\\\images\\\\cc.png'\u001b[0m\u001b[1;33m)\u001b[0m\u001b[1;33m\u001b[0m\u001b[0m\n\u001b[0m\u001b[1;32m      2\u001b[0m \u001b[0mimg\u001b[0m\u001b[1;33m=\u001b[0m\u001b[0mcv2\u001b[0m\u001b[1;33m.\u001b[0m\u001b[0mcvtColor\u001b[0m\u001b[1;33m(\u001b[0m\u001b[0mimg1\u001b[0m\u001b[1;33m,\u001b[0m \u001b[0mcv2\u001b[0m\u001b[1;33m.\u001b[0m\u001b[0mCOLOR_BGR2GRAY\u001b[0m \u001b[1;33m)\u001b[0m\u001b[1;33m\u001b[0m\u001b[0m\n\u001b[1;32m      3\u001b[0m \u001b[0mcopy\u001b[0m\u001b[1;33m=\u001b[0m\u001b[0mimg1\u001b[0m\u001b[1;33m.\u001b[0m\u001b[0mcopy\u001b[0m\u001b[1;33m(\u001b[0m\u001b[1;33m)\u001b[0m\u001b[1;33m\u001b[0m\u001b[0m\n\u001b[1;32m      4\u001b[0m \u001b[0mK1\u001b[0m\u001b[1;33m=\u001b[0m\u001b[1;32mNone\u001b[0m\u001b[1;33m\u001b[0m\u001b[0m\n\u001b[1;32m      5\u001b[0m \u001b[0mK2\u001b[0m\u001b[1;33m=\u001b[0m\u001b[1;32mNone\u001b[0m\u001b[1;33m\u001b[0m\u001b[0m\n",
      "\u001b[0;31mNameError\u001b[0m: name 'cv2' is not defined"
     ]
    }
   ],
   "source": [
    "img1=cv2.imread('..\\\\images\\\\cc.png')\n",
    "img=cv2.cvtColor(img1, cv2.COLOR_BGR2GRAY )\n",
    "copy=img1.copy()\n",
    "K1=None\n",
    "K2=None\n",
    "Ix=None\n",
    "Iy=None\n",
    "S=None\n",
    "k=0.05\n",
    "res=None\n",
    "threshold=100000\n",
    "for y in range(s.shape[0]):\n",
    "    for x in range(s.shape[1]):\n",
    "        if res[y,x]>threshold:\n",
    "            copy[y,x]=[0,0,255]\n",
    "cv2.imshow('detected',copy)\n",
    "cv2.waitKey(0)\n",
    "cv2.destroyAllWindows()"
   ]
  },
  {
   "cell_type": "code",
   "execution_count": null,
   "metadata": {
    "collapsed": true
   },
   "outputs": [],
   "source": []
  },
  {
   "cell_type": "code",
   "execution_count": null,
   "metadata": {
    "collapsed": true
   },
   "outputs": [],
   "source": []
  }
 ],
 "metadata": {
  "anaconda-cloud": {},
  "kernelspec": {
   "display_name": "Python [conda root]",
   "language": "python",
   "name": "conda-root-py"
  },
  "language_info": {
   "codemirror_mode": {
    "name": "ipython",
    "version": 3
   },
   "file_extension": ".py",
   "mimetype": "text/x-python",
   "name": "python",
   "nbconvert_exporter": "python",
   "pygments_lexer": "ipython3",
   "version": "3.5.2"
  }
 },
 "nbformat": 4,
 "nbformat_minor": 1
}
